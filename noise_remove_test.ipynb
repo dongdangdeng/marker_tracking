{
 "cells": [
  {
   "cell_type": "code",
   "execution_count": 39,
   "metadata": {},
   "outputs": [],
   "source": [
    "import cv2\n",
    "import numpy as np\n",
    "import pandas as pd\n",
    "import random\n",
    "import matplotlib.colors as mcolors\n",
    "import sys\n",
    "from IPython.display import Image, display"
   ]
  },
  {
   "cell_type": "code",
   "execution_count": 40,
   "metadata": {},
   "outputs": [],
   "source": [
    "aruco = cv2.aruco\n",
    "dictionary = aruco.getPredefinedDictionary(aruco.DICT_4X4_50)"
   ]
  },
  {
   "cell_type": "code",
   "execution_count": 41,
   "metadata": {},
   "outputs": [
    {
     "name": "stdout",
     "output_type": "stream",
     "text": [
      "FPS: 29\n"
     ]
    }
   ],
   "source": [
    "cap = cv2.VideoCapture(\"src/mov/test02.mp4\")\n",
    "\n",
    "if not (cap.isOpened()) :   # 正常に読み込めなかった場合終了する（VideoCaptureコンストラクタ自体は失敗してもFalseを返さないので注意）\n",
    "    sys.exit()\n",
    "fps = int(cap.get(cv2.CAP_PROP_FPS))\n",
    "print(\"FPS: \" + str(fps))\n",
    "frameCount = 1\n",
    "ret, frame = cap.read()\n",
    "h, w = frame.shape[:2]\n",
    "\n",
    "def imshow(img, window_name=\"img\"):\n",
    "    cv2.startWindowThread()\n",
    "    cv2.imshow(window_name, img)\n",
    "    cv2.waitKey(0)\n",
    "    cv2.destroyAllWindows()"
   ]
  },
  {
   "cell_type": "code",
   "execution_count": 42,
   "metadata": {},
   "outputs": [],
   "source": [
    "# 実験対象のフレームを画像に保存\n",
    "frame_want = np.arange(199, 209)\n",
    "for frame in frame_want:\n",
    "    cap.set(cv2.CAP_PROP_POS_FRAMES, frame)\n",
    "    ret, img = cap.read()\n",
    "    cv2.imwrite(\"./output/noisy_frames/test02_\" + str(frame) + \".jpg\", img)"
   ]
  },
  {
   "cell_type": "code",
   "execution_count": 51,
   "metadata": {},
   "outputs": [],
   "source": [
    "img = cv2.imread(\"./output/noisy_frames/test02_199.jpg\")\n",
    "# ガウシアンフィルタ\n",
    "img_ga = cv2.GaussianBlur(img, (9, 9), 1)   # フィルターサイズは必ず奇数を与える\n",
    "img_bi = cv2.bilateralFilter(img_ga, 20, 20, 30, 30)\n",
    "imshow(img_bi)"
   ]
  },
  {
   "cell_type": "code",
   "execution_count": 54,
   "metadata": {},
   "outputs": [],
   "source": [
    "def make_sharp_kernel(k: int):\n",
    "  return np.array([\n",
    "    [-k / 9, -k / 9, -k / 9],\n",
    "    [-k / 9, 1 + 8 * k / 9, k / 9],\n",
    "    [-k / 9, -k / 9, -k / 9]\n",
    "  ], np.float32)\n",
    "\n",
    "kernel = make_sharp_kernel(3)\n",
    "img_ga = cv2.GaussianBlur(img, (9, 9), 1)   # フィルターサイズは必ず奇数を与える\n",
    "img_sp = cv2.filter2D(img_ga, -1, kernel).astype(\"uint8\")\n",
    "imshow(img_sp)"
   ]
  }
 ],
 "metadata": {
  "kernelspec": {
   "display_name": "Python 3.9.13 ('py39_opencv')",
   "language": "python",
   "name": "python3"
  },
  "language_info": {
   "codemirror_mode": {
    "name": "ipython",
    "version": 3
   },
   "file_extension": ".py",
   "mimetype": "text/x-python",
   "name": "python",
   "nbconvert_exporter": "python",
   "pygments_lexer": "ipython3",
   "version": "3.9.13"
  },
  "orig_nbformat": 4,
  "vscode": {
   "interpreter": {
    "hash": "4bb47faea8ee0d84de6fa0e75bf000039a384b2a0a3d80fbde05930f393b2eba"
   }
  }
 },
 "nbformat": 4,
 "nbformat_minor": 2
}
