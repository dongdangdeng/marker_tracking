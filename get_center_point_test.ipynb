{
 "cells": [
  {
   "cell_type": "code",
   "execution_count": 25,
   "metadata": {},
   "outputs": [],
   "source": [
    "import cv2\n",
    "import numpy as np\n",
    "import pandas as pd\n",
    "import random\n",
    "import matplotlib.colors as mcolors\n",
    "import sys\n",
    "# import matplotlib.pyplot as plt\n",
    "# %matplotlib inline"
   ]
  },
  {
   "cell_type": "code",
   "execution_count": 26,
   "metadata": {},
   "outputs": [],
   "source": [
    "aruco = cv2.aruco\n",
    "dictionary = aruco.getPredefinedDictionary(aruco.DICT_4X4_50)"
   ]
  },
  {
   "cell_type": "code",
   "execution_count": 27,
   "metadata": {},
   "outputs": [],
   "source": [
    "# debug情報を出すか\n",
    "IS_DEBUG = False\n",
    "\n",
    "cap = cv2.VideoCapture(\"src/mov/test06.mp4\")\n",
    "fps = int(cap.get(cv2.CAP_PROP_FPS))    # 動画のfps\n",
    "current_frame = 1   # 現在の動画フレーム\n",
    "# マーカーサイズ\n",
    "marker_length = 0.0255  # [m]\n",
    "# マーカーの辞書選択\n",
    "dictionary = aruco.getPredefinedDictionary(aruco.DICT_4X4_50)\n",
    "\n",
    "# キャリブレーションデータの選択\n",
    "camera_matrix = np.load(\"calibration/iphonese/mtx.npy\")\n",
    "distortion_coeff = np.load(\"calibration/iphonese/dist.npy\")"
   ]
  },
  {
   "cell_type": "code",
   "execution_count": 28,
   "metadata": {},
   "outputs": [],
   "source": [
    "def apllyFilters(img):\n",
    "    k = 3\n",
    "    sharp_kernel = np.array([\n",
    "        [-k / 9, -k / 9, -k / 9],\n",
    "        [-k / 9, 1 + 8 * k / 9, k / 9],\n",
    "        [-k / 9, -k / 9, -k / 9]\n",
    "    ], np.float32)\n",
    "    img_sp = cv2.filter2D(img, -1, sharp_kernel).astype(\"uint8\")\n",
    "    return img_sp\n"
   ]
  },
  {
   "cell_type": "code",
   "execution_count": 29,
   "metadata": {},
   "outputs": [],
   "source": [
    "capture_ids = [0, 1, 2, 3]\n",
    "d = 10  # 中心マーカーの直径"
   ]
  },
  {
   "cell_type": "code",
   "execution_count": 30,
   "metadata": {},
   "outputs": [],
   "source": [
    "while True:\n",
    "    ret, img = cap.read()\n",
    "    if not ret or cv2.waitKey(int(1000 / fps)) == 27:\n",
    "        break\n",
    "    # img = apllyFilters(img)\n",
    "\n",
    "    # マーカー認識\n",
    "    corners, ids, rejectedImgPoints = aruco.detectMarkers(img, dictionary)\n",
    "    # マーカー可視化\n",
    "    aruco.drawDetectedMarkers(img, corners, ids, (0, 255, 255))\n",
    "    \n",
    "    ids_list = np.squeeze(ids)\n",
    "    capture_corners_indexes = list(map(lambda i : np.where(ids_list==i)[0][0] if len(np.where(ids_list==i)[0]) == 1 else None, capture_ids))\n",
    "    for i in capture_corners_indexes:\n",
    "        if i is not None:\n",
    "            capture_corners = corners[i][0].astype(int)\n",
    "            cpx, cpy = np.average(capture_corners, axis=0).astype(int)\n",
    "            # cv2.circle(img, (cpx,cpy),5, (0,255,255), -1) \n",
    "\n",
    "    cv2.imshow('drawDetectedMarkers', img)\n",
    "\n",
    "    ###debug\n",
    "    # if current_frame > 50:\n",
    "    #     break\n",
    "\n",
    "# 全フレーム終了後の処理\n",
    "\n",
    "cv2.destroyAllWindows()\n"
   ]
  },
  {
   "cell_type": "code",
   "execution_count": 31,
   "metadata": {},
   "outputs": [
    {
     "data": {
      "text/plain": [
       "array([[10],\n",
       "       [11],\n",
       "       [12],\n",
       "       [14],\n",
       "       [13],\n",
       "       [ 7],\n",
       "       [ 9],\n",
       "       [ 8],\n",
       "       [ 6],\n",
       "       [ 5],\n",
       "       [ 4],\n",
       "       [ 3],\n",
       "       [ 2],\n",
       "       [ 1],\n",
       "       [ 0]], dtype=int32)"
      ]
     },
     "execution_count": 31,
     "metadata": {},
     "output_type": "execute_result"
    }
   ],
   "source": [
    "ids"
   ]
  },
  {
   "cell_type": "code",
   "execution_count": 32,
   "metadata": {},
   "outputs": [
    {
     "data": {
      "text/plain": [
       "[3, 13, 12]"
      ]
     },
     "execution_count": 32,
     "metadata": {},
     "output_type": "execute_result"
    }
   ],
   "source": [
    "capture_ids = [14, 1, 2]\n",
    "\n",
    "list(map(lambda i : np.where(ids_list==i)[0][0] if len(np.where(ids_list==i)[0]) == 1 else None, capture_ids))\n"
   ]
  }
 ],
 "metadata": {
  "kernelspec": {
   "display_name": "Python 3.9.13 ('py39_opencv')",
   "language": "python",
   "name": "python3"
  },
  "language_info": {
   "codemirror_mode": {
    "name": "ipython",
    "version": 3
   },
   "file_extension": ".py",
   "mimetype": "text/x-python",
   "name": "python",
   "nbconvert_exporter": "python",
   "pygments_lexer": "ipython3",
   "version": "3.9.13"
  },
  "orig_nbformat": 4,
  "vscode": {
   "interpreter": {
    "hash": "4bb47faea8ee0d84de6fa0e75bf000039a384b2a0a3d80fbde05930f393b2eba"
   }
  }
 },
 "nbformat": 4,
 "nbformat_minor": 2
}
