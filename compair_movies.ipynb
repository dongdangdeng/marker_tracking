{
 "cells": [
  {
   "cell_type": "code",
   "execution_count": 27,
   "metadata": {},
   "outputs": [],
   "source": [
    "import numpy as np\n",
    "import cv2\n",
    "import os"
   ]
  },
  {
   "cell_type": "code",
   "execution_count": 28,
   "metadata": {},
   "outputs": [],
   "source": [
    "# 2つの画像を横に連結する関数\n",
    "def image_hcombine(im_info1, im_info2):\n",
    "    img1 = im_info1[0]                       # 1つ目の画像\n",
    "    img2 = im_info2[0]                       # 2つ目の画像\n",
    "    color_flag1 = im_info1[1]                # 1つ目の画像のカラー/グレー判別値\n",
    "    color_flag2 = im_info2[1]                # 2つ目の画像のカラー/グレー判別値\n",
    "\n",
    "    # 1つ目の画像に対しカラーかグレースケールかによって読み込みを変える\n",
    "    if color_flag1 == 1:\n",
    "        h1, w1, ch1 = img1.shape[:3]         # 画像のサイズを取得（グレースケール画像は[:2]\n",
    "    else:\n",
    "        h1, w1 = img1.shape[:2]\n",
    "\n",
    "    # 2つ目の画像に対しカラーかグレースケールかによって読み込みを変える\n",
    "    if color_flag2 == 1:\n",
    "        h2, w2, ch2 = img2.shape[:3]         # 画像のサイズを取得（グレースケール画像は[:2]\n",
    "    else:\n",
    "        h2, w2 = img2.shape[:2]\n",
    "\n",
    "    # 2つの画像の縦サイズを比較して、大きい方に合わせて一方をリサイズする\n",
    "    if h1 < h2:                              # 1つ目の画像の方が小さい場合\n",
    "        w1 = int((h2 / h1) * w2) # 縦サイズの変化倍率を計算して横サイズを決定する\n",
    "        h1 = h2                              # 小さい方を大きい方と同じ縦サイズにする\n",
    "        img1 = cv2.resize(img1, (w1, h1))    # 画像リサイズ\n",
    "    else:                                    # 2つ目の画像の方が小さい場合\n",
    "        h2 = h1                              # 小さい方を大きい方と同じ縦サイズにする\n",
    "        w2 = int((h1 / h2) * w1)             # 縦サイズの変化倍率を計算して横サイズを決定する\n",
    "        img2 = cv2.resize(img2, (w2, h2))    # 画像リサイズ\n",
    "\n",
    "    img = cv2.hconcat([img1, img2])          # 2つの画像を横方向に連結\n",
    "    return img"
   ]
  },
  {
   "cell_type": "code",
   "execution_count": 29,
   "metadata": {},
   "outputs": [],
   "source": [
    "# 動画を空間方向に連結させる関数\n",
    "def m_space_hcombine(movie1, movie2, path_out, scale_factor):\n",
    "    path1 = movie1[0]                                       # 1つ目の動画のパス\n",
    "    path2 = movie2[0]                                       # 2つ目の動画のパス\n",
    "    color_flag1 = movie1[1]                                 # 1つ目の動画がカラーかどうか\n",
    "    color_flag2 = movie2[1]                                 # 2つ目の動画がカラーかどうか\n",
    "\n",
    "    # 2つの動画の読み込み\n",
    "    movie1_obj = cv2.VideoCapture(path1)\n",
    "    movie2_obj = cv2.VideoCapture(path2)\n",
    "\n",
    "    # ファイルからフレームを1枚ずつ取得して動画処理後に保存する\n",
    "    i = 0                                                   # 第1ループ判定用指標\n",
    "    while True:\n",
    "        ret1, frame1 = movie1_obj.read()                    # 1つ目の動画のフレームを取得\n",
    "        ret2, frame2 = movie2_obj.read()                    # 2つ目の動画のフレームを取得\n",
    "        check = ret1 and ret2                               # 2つのフレームが共に取得できた時だけTrue（論理演算）\n",
    "        if check == True:\n",
    "            im_info1 = [frame1, color_flag1]                # 画像連結関数への引数1\n",
    "            im_info2 = [frame2, color_flag2]                # 画像連結関数への引数2\n",
    "\n",
    "            frame_mix = image_hcombine(im_info1, im_info2)  # 画像連結関数の実行\n",
    "\n",
    "            if i == 0:\n",
    "                # 動画ファイル保存用の設定\n",
    "                fps = int(movie1_obj.get(cv2.CAP_PROP_FPS))                 # 元動画のFPSを取得\n",
    "                fps_new = int(fps * scale_factor)                           # 動画保存時のFPSはスケールファクターをかける\n",
    "                frame_size = frame_mix.shape[:3]                            # 結合したフレームのサイズを得る\n",
    "                h = frame_size[0]                                           # フレームの高さサイズを取得\n",
    "                w = frame_size[1]                                           # フレームの横サイズを取得\n",
    "                fourcc = cv2.VideoWriter_fourcc('m', 'p', '4', 'v')         # 動画保存時のfourcc設定（mp4用）\n",
    "                video = cv2.VideoWriter(path_out, fourcc, fps_new, (w, h))  # 保存動画の仕様\n",
    "                i = i + 1                                                   # 初期ループ判定用指標を増分\n",
    "            else:\n",
    "                pass\n",
    "            video.write(frame_mix)                                          # 動画を保存する\n",
    "        else:\n",
    "            break\n",
    "\n",
    "    # 動画オブジェクトの解放\n",
    "    movie1_obj.release()\n",
    "    movie2_obj.release()\n",
    "    return"
   ]
  },
  {
   "cell_type": "code",
   "execution_count": 30,
   "metadata": {},
   "outputs": [
    {
     "name": "stdout",
     "output_type": "stream",
     "text": [
      "mpvie1: True\n",
      "mpvie2: True\n"
     ]
    }
   ],
   "source": [
    "# ここからメイン実行文\n",
    "movie1 = ['output/tracking_t_hd_60_no_filter.mp4', True]     # 元動画のパス1, カラーはTrue\n",
    "movie2 = ['output/tracking_t_hd_60_applyed_filter.mp4.mp4', True]    # 元動画のパス2, 白黒はFalse\n",
    "print(f'mpvie1: {os.path.isfile(movie1[0])}')\n",
    "print(f'mpvie2: {os.path.isfile(movie2[0])}')\n",
    "path_out = 'output/compair.mp4'        # 保存する動画のパス\n",
    "scale_factor = 1                  # FPSにかけるスケールファクター\n",
    " \n",
    "# 複数動画を連結させる関数を実行\n",
    "m_space_hcombine(movie1, movie2, path_out, scale_factor)"
   ]
  }
 ],
 "metadata": {
  "kernelspec": {
   "display_name": "Python 3.9.13 ('py39_opencv')",
   "language": "python",
   "name": "python3"
  },
  "language_info": {
   "codemirror_mode": {
    "name": "ipython",
    "version": 3
   },
   "file_extension": ".py",
   "mimetype": "text/x-python",
   "name": "python",
   "nbconvert_exporter": "python",
   "pygments_lexer": "ipython3",
   "version": "3.9.13"
  },
  "orig_nbformat": 4,
  "vscode": {
   "interpreter": {
    "hash": "4bb47faea8ee0d84de6fa0e75bf000039a384b2a0a3d80fbde05930f393b2eba"
   }
  }
 },
 "nbformat": 4,
 "nbformat_minor": 2
}
