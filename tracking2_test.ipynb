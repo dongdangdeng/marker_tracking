{
 "cells": [
  {
   "cell_type": "code",
   "execution_count": 589,
   "metadata": {},
   "outputs": [],
   "source": [
    "import numpy as np\n",
    "import cv2\n",
    "from cv2 import aruco\n",
    "import pandas as pd\n",
    "import random\n",
    "import tqdm\n",
    "import datetime\n",
    "import sys\n",
    "\n",
    "random.seed(0)\n",
    "\n",
    "IS_DEBUG = False"
   ]
  },
  {
   "cell_type": "code",
   "execution_count": 599,
   "metadata": {},
   "outputs": [
    {
     "name": "stdout",
     "output_type": "stream",
     "text": [
      "output/test/markers_20221201162355.csv\n"
     ]
    }
   ],
   "source": [
    "# 解析する動画のパス\n",
    "input_video_path = \"src/mov/VibrationTest/IMG_5243.MOV\"\n",
    "print(\"loading '\" + input_video_path + \"'\")\n",
    "cap = cv2.VideoCapture(input_video_path)\n",
    "if not (cap.isOpened()):\n",
    "    print(\"video loading error\")\n",
    "    sys.exit()\n",
    "fps = int(cap.get(cv2.CAP_PROP_FPS))    # 動画のfps\n",
    "total_frame = int(cap.get(cv2.CAP_PROP_FRAME_COUNT))    # 総フレーム数\n",
    "\n",
    "# 日付取得（ファイル名用）\n",
    "t_delta = datetime.timedelta(hours=9)\n",
    "JST = datetime.timezone(t_delta, 'JST')\n",
    "now = datetime.datetime.now(JST)\n",
    "# YYYYMMDDhhmmss形式に書式化\n",
    "d = now.strftime('%Y%m%d%H%M%S')\n",
    "\n",
    "# 出力csvのパス\n",
    "output_path = \"output/test/markers_\" + d + \".csv\"\n",
    "\n",
    "# マーカーサイズ\n",
    "marker_length = 0.0255  # [m]\n",
    "# マーカーの辞書選択\n",
    "dictionary = aruco.getPredefinedDictionary(aruco.DICT_4X4_50)\n",
    "\n",
    "# キャリブレーションデータの選択\n",
    "camera_matrix = np.load(\"calibration/iphonese/mtx.npy\")\n",
    "distortion_coeff = np.load(\"calibration/iphonese/dist.npy\")\n",
    "\n",
    "# DFの不要な行（後で消す）につけるkey名称\n",
    "DELETE_KEY = -1\n",
    "\n",
    "# 軌跡の長さ\n",
    "orbit_length = 100\n",
    "\n",
    "# マーカーの履歴（初期状態でマルチカラムのDFをconcatしてもエラーにならないように最低限フォーマットを整える）\n",
    "markers_hist = pd.DataFrame([np.nan], columns=[[DELETE_KEY], [0]])\n"
   ]
  },
  {
   "cell_type": "code",
   "execution_count": 587,
   "metadata": {},
   "outputs": [
    {
     "name": "stdout",
     "output_type": "stream",
     "text": [
      "parsing markers...\n"
     ]
    },
    {
     "name": "stderr",
     "output_type": "stream",
     "text": [
      " 33%|███▎      | 1186/3626 [00:36<01:14, 32.63it/s]\n"
     ]
    },
    {
     "ename": "KeyboardInterrupt",
     "evalue": "",
     "output_type": "error",
     "traceback": [
      "\u001b[1;31m---------------------------------------------------------------------------\u001b[0m",
      "\u001b[1;31mKeyboardInterrupt\u001b[0m                         Traceback (most recent call last)",
      "Cell \u001b[1;32mIn [587], line 6\u001b[0m\n\u001b[0;32m      4\u001b[0m \u001b[39mif\u001b[39;00m IS_DEBUG \u001b[39mand\u001b[39;00m current_frame \u001b[39m==\u001b[39m \u001b[39m10\u001b[39m:\n\u001b[0;32m      5\u001b[0m     \u001b[39mprint\u001b[39m(\u001b[39m\"\u001b[39m\u001b[39mstop\u001b[39m\u001b[39m\"\u001b[39m)\n\u001b[1;32m----> 6\u001b[0m ret, img \u001b[39m=\u001b[39m cap\u001b[39m.\u001b[39;49mread()\n\u001b[0;32m      7\u001b[0m \u001b[39mif\u001b[39;00m \u001b[39mnot\u001b[39;00m ret:\n\u001b[0;32m      8\u001b[0m     \u001b[39mbreak\u001b[39;00m\n",
      "\u001b[1;31mKeyboardInterrupt\u001b[0m: "
     ]
    }
   ],
   "source": [
    "print(\"parsing markers...\")\n",
    "for current_frame in tqdm.tqdm(range(1, total_frame + 1)):\n",
    "    IS_DEBUG and print(\"frame: \" + str(current_frame))\n",
    "    if IS_DEBUG and current_frame == 10:\n",
    "        print(\"stop\")\n",
    "    ret, img = cap.read()\n",
    "    if not ret:\n",
    "        break\n",
    "\n",
    "    # マーカー認識\n",
    "    corners, ids, rejectedImgPoints = aruco.detectMarkers(img, dictionary)\n",
    "    \n",
    "    # if current_frame == 1175:\n",
    "    #     from IPython.core.debugger import Pdb; Pdb().set_trace()\n",
    "\n",
    "    # 同じidのマーカーが複数検知された際の処理（前回検知されたmarkerとの距離が近い方のみを残す）\n",
    "    # TODO 一応動いているがデータあっているか検証\n",
    "    if ids is not None : id_list = list(map(lambda id : id[0] , ids))   # idsの値をそのまま平のリストに変換\n",
    "    duplicate_ids = [x for x in set(id_list) if id_list.count(x) > 1]   # 重複しているidがあれば抜き出し\n",
    "    if len(duplicate_ids) > 0:\n",
    "        for id in duplicate_ids:\n",
    "            IS_DEBUG and print(\"duplicate id: \" + str(id))\n",
    "            cpxs = markers_hist[id]['cpx'].dropna().dropna()\n",
    "            cpys = markers_hist[id]['cpy'].dropna().dropna()\n",
    "            if len(cpxs) != 0 and len(cpys) != 0:   # 座標にNaNしかない場合（初めてW誤検知した場合等）は処理しない\n",
    "                last_cpx = list(cpxs[-1:])[0]\n",
    "                last_cpy = list(cpys[-1:])[0]\n",
    "                \n",
    "                corners_indexes_from_duplicate_id = [i for i, x in enumerate(ids) if x == id] # 重複idのデータが入っているcornersのindexリスト\n",
    "                IS_DEBUG and print(\"duplicate_indexes: \", corners_indexes_from_duplicate_id)\n",
    "                distances = pd.Series(dtype=float)  # (last_cpx, last_cpy)と今検知された座標の距離のリスト（index=該当のcornersのindex）\n",
    "                for corner_id in corners_indexes_from_duplicate_id:\n",
    "                    # cpx座標とcpy座標の距離\n",
    "                    distance_x, distance_y = np.average(corners[corner_id][0], axis=0).astype(int) - [last_cpx, last_cpy]\n",
    "                    distances.at[corner_id] = np.sqrt(distance_x ** 2 + distance_y ** 2)    # 各xy座標の距離から2点間の距離に変換し、リストに追加\n",
    "                drop_indexes = distances.index.drop(labels=[distances.idxmin()]).tolist()\n",
    "                corners = np.delete(corners, drop_indexes, axis=0)\n",
    "                ids = np.delete(ids, drop_indexes, axis=0)\n",
    "\n",
    "    markers_current = pd.DataFrame()\n",
    "    markers_tmp = []\n",
    "    if len(corners) > 0:\n",
    "        # マーカーごとに処理\n",
    "        for i, corner in enumerate(corners):\n",
    "            id = ids[i][0]\n",
    "            this_corner = np.squeeze(corner)\n",
    "\n",
    "            # 姿勢認識\n",
    "            # rvec -> rotation vector, tvec -> translation vector\n",
    "            rvec, tvec, _ = aruco.estimatePoseSingleMarkers(\n",
    "                corner, marker_length, camera_matrix, distortion_coeff)\n",
    "\n",
    "            # < rodoriguesからeuluerへの変換 >\n",
    "\n",
    "            # 不要なaxisを除去\n",
    "            tvec = np.squeeze(tvec)\n",
    "            rvec = np.squeeze(rvec)\n",
    "            # 回転ベクトルからrodoriguesへ変換\n",
    "            rvec_matrix = cv2.Rodrigues(rvec)\n",
    "            rvec_matrix = rvec_matrix[0]  # rodoriguesから抜き出し\n",
    "            # 並進ベクトルの転置\n",
    "            transpose_tvec = tvec[np.newaxis, :].T\n",
    "            # 合成\n",
    "            proj_matrix = np.hstack((rvec_matrix, transpose_tvec))\n",
    "            # オイラー角への変換\n",
    "            euler_angle = cv2.decomposeProjectionMatrix(proj_matrix)[\n",
    "                6]  # [deg]\n",
    "\n",
    "            # 中心座標(ピクセル単位)\n",
    "            cpx, cpy = np.average(this_corner, axis=0).astype(int)\n",
    "            # マーカー座標をmarkers(DataFrame)に書き込み\n",
    "            this_marker = pd.DataFrame([{\"x\": tvec[0], \"y\": tvec[1], \"z\": tvec[2],\n",
    "                                         \"roll\": euler_angle[0][0], \"pitch\": euler_angle[1][0], \"yaw\": euler_angle[2][0],\n",
    "                                         \"cpx\": cpx, \"cpy\": cpy\n",
    "                                         }])\n",
    "            markers_tmp.append(this_marker)\n",
    "\n",
    "            if IS_DEBUG and False:\n",
    "                print(\"marker id: \" + str(id))\n",
    "                for key, val in this_marker.iteritems():\n",
    "                    print(key + \" : \" + str(val[0]))\n",
    "        \n",
    "                \n",
    "        if len(markers_tmp) < 2:    # マーカーが1つのみ検出された場合\n",
    "            # concatで複数のマーカーDFを結合してマルチカラムを作成しているため、マーカーDFが1つだけの場合\n",
    "            # 1つのマーカーを複製して無理やりconcatして、複製した方を最後に削除している\n",
    "            markers_current = pd.concat([markers_tmp[0], markers_tmp[0]], axis=1, keys=[\n",
    "                                        ids[0][0], DELETE_KEY])  # 後で消す方のkey=DELETE_KEY\n",
    "            \n",
    "\n",
    "        else:\n",
    "            markers_current = pd.concat(\n",
    "                markers_tmp, axis=1, keys=np.squeeze(ids))\n",
    "\n",
    "        IS_DEBUG and print(markers_current)\n",
    "        markers_hist = pd.concat(\n",
    "            [markers_hist, markers_current], ignore_index=True)\n",
    "    else:  # マーカーが1つも検出できなかった場合\n",
    "        markers_hist.loc[current_frame] = np.nan\n"
   ]
  },
  {
   "cell_type": "code",
   "execution_count": null,
   "metadata": {},
   "outputs": [],
   "source": [
    "# for id in duplicate_ids:\n",
    "#     IS_DEBUG and print(\"duplicate id: \" + str(id))\n",
    "#     cpxs = markers_hist[id]['cpx'].dropna().dropna()\n",
    "#     cpys = markers_hist[id]['cpy'].dropna().dropna()\n",
    "#     if len(cpxs) != 0 and len(cpys) != 0:   # 座標にNaNしかない場合（初めてW誤検知した場合等）は処理しない\n",
    "#         last_cpx = list(cpxs[-1:])[0]\n",
    "#         last_cpy = list(cpys[-1:])[0]\n",
    "        \n",
    "#         corners_indexes_from_duplicate_id = [i for i, x in enumerate(ids) if x == id] # 重複idのデータが入っているcornersのindexリスト\n",
    "#         IS_DEBUG and print(\"duplicate_indexes: \", corners_indexes_from_duplicate_id)\n",
    "#         distances = pd.Series(dtype=float)  # (last_cpx, last_cpy)と今検知された座標の距離のリスト（index=該当のcornersのindex）\n",
    "#         for corner_id in corners_indexes_from_duplicate_id:\n",
    "#             # cpx座標とcpy座標の距離\n",
    "#             distance_x, distance_y = np.average(corners[corner_id][0], axis=0).astype(int) - [last_cpx, last_cpy]\n",
    "#             distances.at[corner_id] = np.sqrt(distance_x ** 2 + distance_y ** 2)    # 各xy座標の距離から2点間の距離に変換し、リストに追加\n",
    "#         drop_indexes = distances.index.drop(labels=[distances.idxmin()]).tolist()\n",
    "#         # corners = np.delete(corners, drop_indexes, axis=0)\n",
    "#         # ids = np.delete(ids, drop_indexes, axis=0)\n",
    "\n",
    "\n",
    "# corner_id\n"
   ]
  }
 ],
 "metadata": {
  "kernelspec": {
   "display_name": "Python 3.9.13 ('py39_opencv')",
   "language": "python",
   "name": "python3"
  },
  "language_info": {
   "codemirror_mode": {
    "name": "ipython",
    "version": 3
   },
   "file_extension": ".py",
   "mimetype": "text/x-python",
   "name": "python",
   "nbconvert_exporter": "python",
   "pygments_lexer": "ipython3",
   "version": "3.9.13"
  },
  "orig_nbformat": 4,
  "vscode": {
   "interpreter": {
    "hash": "4bb47faea8ee0d84de6fa0e75bf000039a384b2a0a3d80fbde05930f393b2eba"
   }
  }
 },
 "nbformat": 4,
 "nbformat_minor": 2
}
