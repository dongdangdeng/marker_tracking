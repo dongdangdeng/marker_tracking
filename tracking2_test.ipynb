{
 "cells": [
  {
   "cell_type": "code",
   "execution_count": 469,
   "metadata": {},
   "outputs": [],
   "source": [
    "import numpy as np\n",
    "import cv2\n",
    "from cv2 import aruco\n",
    "import pandas as pd\n",
    "import tqdm\n",
    "import datetime\n",
    "import sys\n",
    "\n",
    "IS_DEBUG = False                      # デバッグモード\n",
    "IS_INTERPOLATE = True  # 欠損値の補完を行うか\n",
    "INTERPOLATE_METHOD = {0: \"linear\", 1: \"spline\"}[0]    # 補完の種類\n",
    "IS_APPLY_FILTERS = True               # 鮮鋭化フィルタを適用するか"
   ]
  },
  {
   "cell_type": "code",
   "execution_count": 446,
   "metadata": {},
   "outputs": [
    {
     "name": "stdout",
     "output_type": "stream",
     "text": [
      "loading 'src/mov/VibrationTest/t_hd_60.mp4'\n"
     ]
    }
   ],
   "source": [
    "# 解析する動画のパス\n",
    "input_video_path = \"src/mov/VibrationTest/t_hd_60.mp4\"\n",
    "\n",
    "print(\"loading '\" + input_video_path + \"'\")\n",
    "cap = cv2.VideoCapture(input_video_path)\n",
    "if not (cap.isOpened()):\n",
    "    print(\"video loading error\")\n",
    "    sys.exit()\n",
    "fps = int(cap.get(cv2.CAP_PROP_FPS))    # 動画のfps\n",
    "total_frame = int(cap.get(cv2.CAP_PROP_FRAME_COUNT))    # 総フレーム数\n",
    "\n",
    "# 日付取得（ファイル名用）\n",
    "t_delta = datetime.timedelta(hours=9)\n",
    "JST = datetime.timezone(t_delta, 'JST')\n",
    "now = datetime.datetime.now(JST)\n",
    "# YYYYMMDDhhmmss形式に書式化\n",
    "d = now.strftime('%Y%m%d%H%M%S')\n",
    "\n",
    "# 出力csvのパス\n",
    "output_path = \"output/test/markers_\" + d + \".csv\"\n",
    "\n",
    "# マーカーサイズ\n",
    "marker_length = 0.0255  # [m]\n",
    "# マーカーの辞書選択\n",
    "dictionary = aruco.getPredefinedDictionary(aruco.DICT_4X4_50)\n",
    "\n",
    "# キャリブレーションデータの選択\n",
    "camera_matrix = np.load(\"calibration/iphonese/mtx.npy\")\n",
    "distortion_coeff = np.load(\"calibration/iphonese/dist.npy\")\n",
    "\n",
    "# DFの不要な行（後で消す）につけるkey名称\n",
    "DELETE_KEY = -1\n",
    "\n",
    "# マーカーの履歴（初期状態でマルチカラムのDFをconcatしてもエラーにならないように最低限フォーマットを整える）\n",
    "markers_hist = pd.DataFrame([np.nan], columns=[[DELETE_KEY], [0]])\n"
   ]
  },
  {
   "cell_type": "code",
   "execution_count": 447,
   "metadata": {},
   "outputs": [],
   "source": [
    "# 鮮鋭化フィルタ\n",
    "def applySharpFilter(img, k=2):\n",
    "    sharp_kernel = np.array([\n",
    "        [-k / 9, -k / 9, -k / 9],\n",
    "        [-k / 9, 1 + 8 * k / 9, k / 9],\n",
    "        [-k / 9, -k / 9, -k / 9]\n",
    "    ], np.float32)\n",
    "    img_sp = cv2.filter2D(img, -1, sharp_kernel).astype(\"uint8\")\n",
    "    return img_sp\n",
    "\n",
    "# バイラテラルフィルタ\n",
    "def applyBltrlFilter(img, d=15):\n",
    "    img_bltrl = cv2.bilateralFilter(src=img, d=d, sigmaColor=75, sigmaSpace=75)\n",
    "    return img_bltrl\n",
    "\n",
    "# メディアンフィルタ\n",
    "def applyMedianFilter(img, d=1):\n",
    "    return cv2.medianBlur(img, d)\n",
    "\n"
   ]
  },
  {
   "cell_type": "code",
   "execution_count": 448,
   "metadata": {},
   "outputs": [],
   "source": [
    "\"\"\"\n",
    "cornersとidsの差分を追加したcornersとidsを返す。\n",
    "\"\"\"\n",
    "def addNewMarkers(current_ids, current_corners, new_corners, new_ids):\n",
    "    current_id_list = list(map(lambda id : id[0] , current_ids))\n",
    "    current_corners_list = list(current_corners)\n",
    "    if new_ids is None: # 追加する方のデータ（new_~)がなにもない場合、currentを次元削減したものだけを返す\n",
    "        return current_id_list, current_corners_list\n",
    "    else:\n",
    "        new_ids_list = list(map(lambda id : id[0] , new_ids))\n",
    "        origin_ids = [id for id in new_ids_list if id not in current_id_list]   # フィルター適用後のみ検出されたid\n",
    "        origin_id_indexes = [new_ids_list.index(i) for i in origin_ids]   # origin_idsのidに対応するindex\n",
    "        added_id_list = np.append(current_id_list, origin_ids)  # id_listに新しく検出されたidを追加\n",
    "        added_corners_list = current_corners_list\n",
    "        for i in origin_id_indexes: # cornersに新しく検出された座標を追加\n",
    "            added_corners_list.append(new_corners[i])\n",
    "        return added_id_list, added_corners_list\n",
    "    "
   ]
  },
  {
   "cell_type": "code",
   "execution_count": 449,
   "metadata": {},
   "outputs": [
    {
     "name": "stdout",
     "output_type": "stream",
     "text": [
      "parsing markers...\n"
     ]
    },
    {
     "name": "stderr",
     "output_type": "stream",
     "text": [
      "100%|██████████| 1811/1811 [00:51<00:00, 34.88it/s]\n"
     ]
    }
   ],
   "source": [
    "print(\"parsing markers...\")\n",
    "for current_frame in tqdm.tqdm(range(1, total_frame + 1)):\n",
    "    IS_DEBUG and print(f\"frame: {current_frame}\")\n",
    "    ret, img = cap.read()\n",
    "    if not ret:\n",
    "        break\n",
    "\n",
    "    # マーカー認識\n",
    "    corners, ids, rejectedImgPoints = aruco.detectMarkers(img, dictionary)\n",
    "\n",
    "    # 同じidのマーカーが複数検知された際の処理（前回検知されたmarkerとの距離が近い方のみを残す）\n",
    "    # TODO 一応動いているがデータあっているか検証\n",
    "    if ids is not None :\n",
    "        id_list = list(map(lambda id : id[0] , ids))   # idsの値をそのまま平のリストに変換\n",
    "        duplicate_ids = [x for x in set(id_list) if id_list.count(x) > 1]   # 重複しているidがあれば抜き出し\n",
    "    else:\n",
    "        id_list = []\n",
    "        duplicate_ids = []\n",
    "        \n",
    "    if len(duplicate_ids) > 0:\n",
    "        for id in duplicate_ids:\n",
    "            IS_DEBUG and print(f\"duplicate id: {id}\")\n",
    "            cpxs = markers_hist[id]['cpx'].dropna()\n",
    "            cpys = markers_hist[id]['cpy'].dropna()\n",
    "            if len(cpxs) != 0 and len(cpys) != 0:   # 座標にNaNしかない場合（初めてW誤検知した場合等）は処理しない\n",
    "                last_cpx = list(cpxs[-1:])[0]\n",
    "                last_cpy = list(cpys[-1:])[0]\n",
    "                \n",
    "                corners_indexes_from_duplicate_id = [i for i, x in enumerate(ids) if x == id] # 重複idのデータが入っているcornersのindexリスト\n",
    "                IS_DEBUG and print(\"duplicate_indexes: \", corners_indexes_from_duplicate_id)\n",
    "                distances = pd.Series(dtype=float)  # (last_cpx, last_cpy)と今検知された座標の距離のリスト（index=該当のcornersのindex）\n",
    "                for corner_id in corners_indexes_from_duplicate_id:\n",
    "                    # cpx座標とcpy座標の距離\n",
    "                    distance_x, distance_y = np.average(corners[corner_id][0], axis=0).astype(int) - [last_cpx, last_cpy]\n",
    "                    distances.at[corner_id] = np.sqrt(distance_x ** 2 + distance_y ** 2)    # 各xy座標の距離から2点間の距離に変換し、リストに追加\n",
    "                drop_indexes = distances.index.drop(labels=[distances.idxmin()]).tolist()\n",
    "                corners = np.delete(corners, drop_indexes, axis=0)\n",
    "                ids = np.delete(ids, drop_indexes, axis=0)\n",
    "                id_list = list(map(lambda id : id[0] , ids)) # TODO DRY\n",
    "\n",
    "    # フィルター適用処理\n",
    "    # フィルター適用後のimgでのみ検出されたマーカーを追加\n",
    "    if IS_APPLY_FILTERS:\n",
    "        #バイラテラルフィルタ\n",
    "        img_b = applyMedianFilter(img, 1)\n",
    "        # 鮮鋭化\n",
    "        img_s = applySharpFilter(img_b, 2)\n",
    "        corners_s, ids_s, _ = aruco.detectMarkers(img_s, dictionary)\n",
    "        id_list, corners_list = addNewMarkers(ids, corners, corners_s, ids_s)\n",
    "\n",
    "    markers_current = pd.DataFrame()\n",
    "    markers_tmp = []\n",
    "    if len(corners_list) > 0:\n",
    "        # マーカーごとに処理\n",
    "        for i, corner in enumerate(corners_list):\n",
    "            id = id_list[i]\n",
    "            this_corner = np.squeeze(corner)\n",
    "\n",
    "            # 姿勢認識\n",
    "            # rvec -> rotation vector, tvec -> translation vector\n",
    "            rvec, tvec, _ = aruco.estimatePoseSingleMarkers(\n",
    "                corner, marker_length, camera_matrix, distortion_coeff)\n",
    "\n",
    "            # < rodoriguesからeuluerへの変換 >\n",
    "\n",
    "            # 不要なaxisを除去\n",
    "            tvec = np.squeeze(tvec)\n",
    "            rvec = np.squeeze(rvec)\n",
    "            # 回転ベクトルからrodoriguesへ変換\n",
    "            rvec_matrix = cv2.Rodrigues(rvec)\n",
    "            rvec_matrix = rvec_matrix[0]  # rodoriguesから抜き出し\n",
    "            # 並進ベクトルの転置\n",
    "            transpose_tvec = tvec[np.newaxis, :].T\n",
    "            # 合成\n",
    "            proj_matrix = np.hstack((rvec_matrix, transpose_tvec))\n",
    "            # オイラー角への変換\n",
    "            euler_angle = cv2.decomposeProjectionMatrix(proj_matrix)[\n",
    "                6]  # [deg]\n",
    "\n",
    "            # 中心座標(ピクセル単位)\n",
    "            cpx, cpy = np.average(this_corner, axis=0).astype(int)\n",
    "            # マーカー座標をmarkers(DataFrame)に書き込み\n",
    "            this_marker = pd.DataFrame([{\"x\": tvec[0], \"y\": tvec[1], \"z\": tvec[2],\n",
    "                                         \"roll\": euler_angle[0][0], \"pitch\": euler_angle[1][0], \"yaw\": euler_angle[2][0],\n",
    "                                         \"cpx\": cpx, \"cpy\": cpy\n",
    "                                         }])\n",
    "            markers_tmp.append(this_marker)\n",
    "\n",
    "            if IS_DEBUG:\n",
    "                print(f\"marker id: {id}\")\n",
    "                for key, val in this_marker.iteritems():\n",
    "                    print(key + \" : \" + str(val[0]))\n",
    "        \n",
    "                \n",
    "        if len(markers_tmp) < 2:    # マーカーが1つのみ検出された場合\n",
    "            # concatで複数のマーカーDFを結合してマルチカラムを作成しているため、マーカーDFが1つだけの場合\n",
    "            # 1つのマーカーを複製して無理やりconcatして、複製した方を最後に削除している\n",
    "            markers_current = pd.concat([markers_tmp[0], markers_tmp[0]], axis=1, keys=[\n",
    "                                        id_list[0], DELETE_KEY])  # 後で消す方のkey=DELETE_KEY\n",
    "        else:\n",
    "            markers_current = pd.concat(\n",
    "                markers_tmp, axis=1, keys=id_list)\n",
    "\n",
    "        IS_DEBUG and print(markers_current)\n",
    "        markers_hist = pd.concat(\n",
    "            [markers_hist, markers_current], ignore_index=True)\n",
    "    else:  # マーカーが1つも検出できなかった場合\n",
    "        markers_hist.loc[current_frame] = np.nan\n"
   ]
  },
  {
   "cell_type": "code",
   "execution_count": 472,
   "metadata": {},
   "outputs": [
    {
     "name": "stdout",
     "output_type": "stream",
     "text": [
      "Complementing missing values...\n"
     ]
    },
    {
     "name": "stderr",
     "output_type": "stream",
     "text": [
      "100%|██████████| 104/104 [00:00<00:00, 956.68it/s]\n"
     ]
    },
    {
     "name": "stdout",
     "output_type": "stream",
     "text": [
      "out put parsed markers 'output/test/markers_20221206095819.csv'\n"
     ]
    }
   ],
   "source": [
    "# 全フレーム終了後の処理\n",
    "\n",
    "markers_hist.sort_index(level=0, axis=1, inplace=True)\n",
    "\n",
    "if DELETE_KEY in markers_hist.columns:  # 不要な行を削除\n",
    "    markers_hist = markers_hist.drop(DELETE_KEY, axis=1)\n",
    "\n",
    "# 欠損値を補完\n",
    "if IS_INTERPOLATE:\n",
    "    print(f\"Complementing missing values by {INTERPOLATE_METHOD} method...\")\n",
    "    for col in tqdm.tqdm(markers_hist.columns):\n",
    "        if (total_frame - markers_hist[col].isnull().sum()) >= 4:\n",
    "            markers_hist[col] = markers_hist[col].interpolate(\n",
    "                method=INTERPOLATE_METHOD, order=2, limit_direction=\"both\")\n",
    "            if (col[1] == \"cpx\" or col[1] == \"cpy\") and ~np.isnan(markers_hist[col][0]):     # cpx、cpyはintへ変換\n",
    "                markers_hist[col] = markers_hist[col].astype(int)\n",
    "\n",
    "# カラムのidをintに変換\n",
    "markers_hist.columns = markers_hist.columns.set_levels(\n",
    "    markers_hist.columns.levels[0].astype(int),\n",
    "    level=0\n",
    "    )\n",
    "\n",
    "markers_hist.to_csv(output_path)\n",
    "print(f\"out put parsed markers '{output_path}'\")"
   ]
  }
 ],
 "metadata": {
  "kernelspec": {
   "display_name": "Python 3.9.13 ('py39_opencv')",
   "language": "python",
   "name": "python3"
  },
  "language_info": {
   "codemirror_mode": {
    "name": "ipython",
    "version": 3
   },
   "file_extension": ".py",
   "mimetype": "text/x-python",
   "name": "python",
   "nbconvert_exporter": "python",
   "pygments_lexer": "ipython3",
   "version": "3.9.13"
  },
  "orig_nbformat": 4,
  "vscode": {
   "interpreter": {
    "hash": "4bb47faea8ee0d84de6fa0e75bf000039a384b2a0a3d80fbde05930f393b2eba"
   }
  }
 },
 "nbformat": 4,
 "nbformat_minor": 2
}
