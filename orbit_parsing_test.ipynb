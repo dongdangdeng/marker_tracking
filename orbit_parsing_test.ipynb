{
 "cells": [
  {
   "cell_type": "code",
   "execution_count": 578,
   "metadata": {},
   "outputs": [],
   "source": [
    "import numpy as np\n",
    "import cv2\n",
    "from cv2 import aruco\n",
    "import pandas as pd\n",
    "import itertools\n",
    "%matplotlib inline\n",
    "import matplotlib.pyplot as plt\n",
    "import matplotlib.ticker as ptick \n"
   ]
  },
  {
   "cell_type": "code",
   "execution_count": 579,
   "metadata": {},
   "outputs": [],
   "source": [
    "# 軌跡データ\n",
    "# csv_path = \"output/test/markers_t_hd_60.csv\"  # フィルタ適用前\n",
    "# csv_path = \"output/test/markers_t_h_60_comlement_filter_bltrl_hybrid_2.csv\" # フィルタ適用後+スプライン補完\n",
    "csv_path = \"output/test/markers_t_h_60_liner_comlement_filter_bltrl_hybrid.csv\" # フィルタ適用後+線形補完\n",
    "\n",
    "# csv_path = \"output/test/markers_carton_g_hd_60_liner_filter.csv\"\n",
    "markers_raw = pd.read_csv(csv_path, header=[0, 1])\n",
    "frames = len(markers_raw)\n",
    "\n",
    "# 外れ値とする最小四分位数\n",
    "q_min = 0.25\n",
    "\n",
    "# 外れ値とする最大四分位数\n",
    "q_max = 0.75\n",
    "\n",
    "# 解析で使用するidのデータだけ抜き出し\n",
    "ids = list(map(lambda col: str(col), [14]))\n",
    "markers = markers_raw[ids]\n",
    "\n",
    "# 構造（線の接続関係）の定義\n",
    "# stractures = [[0,1,2,3,0],[4,5,6,7,4]]"
   ]
  },
  {
   "cell_type": "code",
   "execution_count": 580,
   "metadata": {},
   "outputs": [],
   "source": [
    "# 異常値の取り除き\n",
    "def outlier_iqr(df, q_min=0.25, q_max=0.75):\n",
    "\n",
    "    for i in range(len(df.columns)):\n",
    "\n",
    "        # 列を抽出する\n",
    "        col = df.iloc[:,i]\n",
    "\n",
    "        # 分位数\n",
    "        val_q_min = col.quantile(q_min)\n",
    "        val_q_max = col.quantile(q_max)\n",
    "        iqr = val_q_max - val_q_min #分位範囲\n",
    "\n",
    "        # 外れ値の基準点\n",
    "        outlier_min = val_q_min - (iqr) * 1.5\n",
    "        outlier_max = val_q_max + (iqr) * 1.5\n",
    "\n",
    "        # 範囲から外れている値を除く\n",
    "        col[col < outlier_min] = None\n",
    "        col[col > outlier_max] = None\n",
    "\n",
    "    return df"
   ]
  },
  {
   "cell_type": "code",
   "execution_count": 581,
   "metadata": {},
   "outputs": [],
   "source": [
    "def mean_norm(df_input):\n",
    "    return df_input.apply(lambda x: (x-x.mean())/ x.std(), axis=0)"
   ]
  },
  {
   "cell_type": "code",
   "execution_count": 582,
   "metadata": {},
   "outputs": [
    {
     "name": "stdout",
     "output_type": "stream",
     "text": [
      "raw data\n"
     ]
    },
    {
     "data": {
      "text/html": [
       "<div>\n",
       "<style scoped>\n",
       "    .dataframe tbody tr th:only-of-type {\n",
       "        vertical-align: middle;\n",
       "    }\n",
       "\n",
       "    .dataframe tbody tr th {\n",
       "        vertical-align: top;\n",
       "    }\n",
       "\n",
       "    .dataframe thead th {\n",
       "        text-align: right;\n",
       "    }\n",
       "</style>\n",
       "<table border=\"1\" class=\"dataframe\">\n",
       "  <thead>\n",
       "    <tr style=\"text-align: right;\">\n",
       "      <th></th>\n",
       "      <th>cpx</th>\n",
       "      <th>cpy</th>\n",
       "      <th>z</th>\n",
       "    </tr>\n",
       "  </thead>\n",
       "  <tbody>\n",
       "    <tr>\n",
       "      <th>count</th>\n",
       "      <td>1812.000000</td>\n",
       "      <td>1812.000000</td>\n",
       "      <td>1812.000000</td>\n",
       "    </tr>\n",
       "    <tr>\n",
       "      <th>mean</th>\n",
       "      <td>98.596578</td>\n",
       "      <td>781.030353</td>\n",
       "      <td>3.444572</td>\n",
       "    </tr>\n",
       "    <tr>\n",
       "      <th>std</th>\n",
       "      <td>1.125503</td>\n",
       "      <td>2.607949</td>\n",
       "      <td>8.248579</td>\n",
       "    </tr>\n",
       "    <tr>\n",
       "      <th>min</th>\n",
       "      <td>95.000000</td>\n",
       "      <td>774.000000</td>\n",
       "      <td>3.004413</td>\n",
       "    </tr>\n",
       "    <tr>\n",
       "      <th>25%</th>\n",
       "      <td>98.000000</td>\n",
       "      <td>779.000000</td>\n",
       "      <td>3.219693</td>\n",
       "    </tr>\n",
       "    <tr>\n",
       "      <th>50%</th>\n",
       "      <td>99.000000</td>\n",
       "      <td>781.000000</td>\n",
       "      <td>3.231308</td>\n",
       "    </tr>\n",
       "    <tr>\n",
       "      <th>75%</th>\n",
       "      <td>99.000000</td>\n",
       "      <td>783.000000</td>\n",
       "      <td>3.310551</td>\n",
       "    </tr>\n",
       "    <tr>\n",
       "      <th>max</th>\n",
       "      <td>102.000000</td>\n",
       "      <td>789.000000</td>\n",
       "      <td>354.363282</td>\n",
       "    </tr>\n",
       "  </tbody>\n",
       "</table>\n",
       "</div>"
      ],
      "text/plain": [
       "              cpx         cpy           z\n",
       "count 1812.000000 1812.000000 1812.000000\n",
       "mean    98.596578  781.030353    3.444572\n",
       "std      1.125503    2.607949    8.248579\n",
       "min     95.000000  774.000000    3.004413\n",
       "25%     98.000000  779.000000    3.219693\n",
       "50%     99.000000  781.000000    3.231308\n",
       "75%     99.000000  783.000000    3.310551\n",
       "max    102.000000  789.000000  354.363282"
      ]
     },
     "execution_count": 582,
     "metadata": {},
     "output_type": "execute_result"
    }
   ],
   "source": [
    "id = ids[0]\n",
    "# 小数点以下 桁数 6\n",
    "pd.options.display.float_format = '{:.6f}'.format\n",
    "\n",
    "orbit = markers[[(str(id), 'cpx'),(str(id), 'cpy'),(str(id), 'z')]]\n",
    "orbit.columns = orbit.columns.droplevel(0)\n",
    "\n",
    "print(\"raw data\")\n",
    "orbit.describe()"
   ]
  },
  {
   "cell_type": "code",
   "execution_count": 583,
   "metadata": {},
   "outputs": [
    {
     "name": "stdout",
     "output_type": "stream",
     "text": [
      "standardized data\n"
     ]
    },
    {
     "name": "stderr",
     "output_type": "stream",
     "text": [
      "C:\\Users\\k-matsunawa\\AppData\\Local\\Temp\\ipykernel_23036\\65827204.py:19: SettingWithCopyWarning: \n",
      "A value is trying to be set on a copy of a slice from a DataFrame\n",
      "\n",
      "See the caveats in the documentation: https://pandas.pydata.org/pandas-docs/stable/user_guide/indexing.html#returning-a-view-versus-a-copy\n",
      "  col[col < outlier_min] = None\n",
      "C:\\Users\\k-matsunawa\\AppData\\Local\\Temp\\ipykernel_23036\\65827204.py:20: SettingWithCopyWarning: \n",
      "A value is trying to be set on a copy of a slice from a DataFrame\n",
      "\n",
      "See the caveats in the documentation: https://pandas.pydata.org/pandas-docs/stable/user_guide/indexing.html#returning-a-view-versus-a-copy\n",
      "  col[col > outlier_max] = None\n"
     ]
    },
    {
     "data": {
      "text/html": [
       "<div>\n",
       "<style scoped>\n",
       "    .dataframe tbody tr th:only-of-type {\n",
       "        vertical-align: middle;\n",
       "    }\n",
       "\n",
       "    .dataframe tbody tr th {\n",
       "        vertical-align: top;\n",
       "    }\n",
       "\n",
       "    .dataframe thead th {\n",
       "        text-align: right;\n",
       "    }\n",
       "</style>\n",
       "<table border=\"1\" class=\"dataframe\">\n",
       "  <thead>\n",
       "    <tr style=\"text-align: right;\">\n",
       "      <th></th>\n",
       "      <th>cpx</th>\n",
       "      <th>cpy</th>\n",
       "      <th>z</th>\n",
       "    </tr>\n",
       "  </thead>\n",
       "  <tbody>\n",
       "    <tr>\n",
       "      <th>count</th>\n",
       "      <td>1689.000000</td>\n",
       "      <td>1812.000000</td>\n",
       "      <td>1800.000000</td>\n",
       "    </tr>\n",
       "    <tr>\n",
       "      <th>mean</th>\n",
       "      <td>-0.000000</td>\n",
       "      <td>-0.000000</td>\n",
       "      <td>-0.000000</td>\n",
       "    </tr>\n",
       "    <tr>\n",
       "      <th>std</th>\n",
       "      <td>1.000000</td>\n",
       "      <td>1.000000</td>\n",
       "      <td>1.000000</td>\n",
       "    </tr>\n",
       "    <tr>\n",
       "      <th>min</th>\n",
       "      <td>-1.684061</td>\n",
       "      <td>-2.695740</td>\n",
       "      <td>-2.828930</td>\n",
       "    </tr>\n",
       "    <tr>\n",
       "      <th>25%</th>\n",
       "      <td>-0.615549</td>\n",
       "      <td>-0.778525</td>\n",
       "      <td>-0.528405</td>\n",
       "    </tr>\n",
       "    <tr>\n",
       "      <th>50%</th>\n",
       "      <td>0.452963</td>\n",
       "      <td>-0.011639</td>\n",
       "      <td>-0.331824</td>\n",
       "    </tr>\n",
       "    <tr>\n",
       "      <th>75%</th>\n",
       "      <td>0.452963</td>\n",
       "      <td>0.755247</td>\n",
       "      <td>1.007632</td>\n",
       "    </tr>\n",
       "    <tr>\n",
       "      <th>max</th>\n",
       "      <td>1.521475</td>\n",
       "      <td>3.055906</td>\n",
       "      <td>3.124580</td>\n",
       "    </tr>\n",
       "  </tbody>\n",
       "</table>\n",
       "</div>"
      ],
      "text/plain": [
       "              cpx         cpy           z\n",
       "count 1689.000000 1812.000000 1800.000000\n",
       "mean    -0.000000   -0.000000   -0.000000\n",
       "std      1.000000    1.000000    1.000000\n",
       "min     -1.684061   -2.695740   -2.828930\n",
       "25%     -0.615549   -0.778525   -0.528405\n",
       "50%      0.452963   -0.011639   -0.331824\n",
       "75%      0.452963    0.755247    1.007632\n",
       "max      1.521475    3.055906    3.124580"
      ]
     },
     "execution_count": 583,
     "metadata": {},
     "output_type": "execute_result"
    }
   ],
   "source": [
    "orbit = outlier_iqr(orbit, q_min, q_max)  # 外れ値の除去\n",
    "orbit = mean_norm(orbit)\n",
    "\n",
    "print(\"standardized data\")\n",
    "orbit.describe()"
   ]
  },
  {
   "cell_type": "code",
   "execution_count": 584,
   "metadata": {},
   "outputs": [
    {
     "name": "stdout",
     "output_type": "stream",
     "text": [
      "(0, 0) 7\n"
     ]
    },
    {
     "data": {
      "text/plain": [
       "Text(0.5, 0.98, 'sample 1: x-y coordinates')"
      ]
     },
     "execution_count": 584,
     "metadata": {},
     "output_type": "execute_result"
    },
    {
     "data": {
      "image/png": "[encoded data removed]",
      "text/plain": [
       "<Figure size 640x480 with 5 Axes>"
      ]
     },
     "metadata": {},
     "output_type": "display_data"
    }
   ],
   "source": [
    "x, y = [2,2]\n",
    "fig, axs = plt.subplots(y, x, constrained_layout=True)\n",
    "\n",
    "cm = plt.cm.get_cmap('RdYlBu') # プロットのカラーマップ\n",
    "for g, id in zip([(0, 0),(0, 1),(1, 1),(1, 0),], ids):\n",
    "    print(g, id)\n",
    "    orbit = markers[[(str(id), 'x'),(str(id), 'y'),(str(id), 'z')]]\n",
    "    orbit.columns = orbit.columns.droplevel(0)\n",
    "    orbit = outlier_iqr(orbit, q_min, q_max)  # 外れ値の除去\n",
    "    orbit = mean_norm(orbit)\n",
    "    # print(orbit.describe())\n",
    "    mappable = axs[g].scatter(orbit['x'], orbit['y'], c=list(orbit['z']),cmap=cm,s=5, alpha=0.5)\n",
    "    fig.colorbar(mappable, ax=axs[g], label=\"z\")\n",
    "    axs[g].invert_yaxis()   # y座標反転（左上が原点）\n",
    "    axs[g].set_title(f\"id={id}\")\n",
    "    axs[g].set_xlabel(\"x\")\n",
    "    axs[g].set_ylabel(\"y\")\n",
    "\n",
    "fig.suptitle(\"sample 1: x-y coordinates\")\n"
   ]
  },
  {
   "cell_type": "code",
   "execution_count": 586,
   "metadata": {},
   "outputs": [],
   "source": [
    "orbit.to_csv(\"output/xyz.csv\")"
   ]
  }
 ],
 "metadata": {
  "kernelspec": {
   "display_name": "Python 3.9.13 ('py39_opencv')",
   "language": "python",
   "name": "python3"
  },
  "language_info": {
   "codemirror_mode": {
    "name": "ipython",
    "version": 3
   },
   "file_extension": ".py",
   "mimetype": "text/x-python",
   "name": "python",
   "nbconvert_exporter": "python",
   "pygments_lexer": "ipython3",
   "version": "3.9.13"
  },
  "orig_nbformat": 4,
  "vscode": {
   "interpreter": {
    "hash": "4bb47faea8ee0d84de6fa0e75bf000039a384b2a0a3d80fbde05930f393b2eba"
   }
  }
 },
 "nbformat": 4,
 "nbformat_minor": 2
}
