{
 "cells": [
  {
   "cell_type": "code",
   "execution_count": 1,
   "metadata": {},
   "outputs": [],
   "source": [
    "import numpy as np\n",
    "import cv2\n",
    "from cv2 import aruco\n",
    "import pandas as pd\n",
    "import matplotlib.colors as mcolors"
   ]
  },
  {
   "cell_type": "code",
   "execution_count": 2,
   "metadata": {},
   "outputs": [],
   "source": [
    "def imshow(img, window_name=\"img\"):\n",
    "    cv2.startWindowThread()\n",
    "    cv2.imshow(window_name, img)\n",
    "    cv2.waitKey(0)\n",
    "    cv2.destroyAllWindows()"
   ]
  },
  {
   "cell_type": "code",
   "execution_count": 3,
   "metadata": {},
   "outputs": [],
   "source": [
    "# 軌跡データ\n",
    "markers = pd.read_csv(\"output/test/markers05.csv\", header=[0, 1])\n",
    "frames = len(markers)\n",
    "\n",
    "# # 動画データ\n",
    "# cap = cv2.VideoCapture(\"src/mov/test05.mp4\")\n",
    "# fps = int(cap.get(cv2.CAP_PROP_FPS))    # 動画のfps\n",
    "# ret, frame = cap.read()\n",
    "# h, w = frame.shape[:2]"
   ]
  },
  {
   "cell_type": "code",
   "execution_count": 4,
   "metadata": {},
   "outputs": [],
   "source": [
    "ids = pd.Series(markers.columns.levels[0])  # カラムのid列を取得\n",
    "ids_mask = pd.Series(map(lambda id: str(id).isnumeric(), ids))  # 数値を真、文字列を偽とするマスクを作成\n",
    "ids = ids.loc[ids_mask] # マスクを使って数値（id）のみを抜き出し\n",
    "\n",
    "\n",
    "cpxy = ['cpx', 'cpy']\n",
    "pos = [None, None]\n",
    "orbits = pd.DataFrame() # スプライン補完した際の軌跡\n",
    "\n",
    "for id in ids:\n",
    "    # print(\"id :\", id)\n",
    "    for i, cp in enumerate(cpxy):\n",
    "        pos[i] = markers[str(id), cp].fillna(0).astype('int', errors='ignore')\n",
    "    orbits[id] = list(zip(pos[0], pos[1]))\n",
    "\n",
    "\n",
    "orbits = orbits[['0', '1', '2', '3']]\n"
   ]
  },
  {
   "cell_type": "code",
   "execution_count": 5,
   "metadata": {},
   "outputs": [
    {
     "data": {
      "text/html": [
       "<div>\n",
       "<style scoped>\n",
       "    .dataframe tbody tr th:only-of-type {\n",
       "        vertical-align: middle;\n",
       "    }\n",
       "\n",
       "    .dataframe tbody tr th {\n",
       "        vertical-align: top;\n",
       "    }\n",
       "\n",
       "    .dataframe thead th {\n",
       "        text-align: right;\n",
       "    }\n",
       "</style>\n",
       "<table border=\"1\" class=\"dataframe\">\n",
       "  <thead>\n",
       "    <tr style=\"text-align: right;\">\n",
       "      <th></th>\n",
       "      <th>0</th>\n",
       "      <th>1</th>\n",
       "    </tr>\n",
       "  </thead>\n",
       "  <tbody>\n",
       "    <tr>\n",
       "      <th>0</th>\n",
       "      <td>651</td>\n",
       "      <td>96</td>\n",
       "    </tr>\n",
       "    <tr>\n",
       "      <th>1</th>\n",
       "      <td>370</td>\n",
       "      <td>280</td>\n",
       "    </tr>\n",
       "    <tr>\n",
       "      <th>2</th>\n",
       "      <td>640</td>\n",
       "      <td>280</td>\n",
       "    </tr>\n",
       "  </tbody>\n",
       "</table>\n",
       "</div>"
      ],
      "text/plain": [
       "     0    1\n",
       "0  651   96\n",
       "1  370  280\n",
       "2  640  280"
      ]
     },
     "execution_count": 5,
     "metadata": {},
     "output_type": "execute_result"
    }
   ],
   "source": [
    "img = np.zeros((750,1000,3))\n",
    "font = cv2.FONT_HERSHEY_SIMPLEX\n",
    "pts = np.array(list(orbits.iloc[60][1:4]))\n",
    "\n",
    "pd.DataFrame( pts)"
   ]
  },
  {
   "cell_type": "code",
   "execution_count": 6,
   "metadata": {},
   "outputs": [
    {
     "name": "stdout",
     "output_type": "stream",
     "text": [
      "[920  96]\n"
     ]
    }
   ],
   "source": [
    "\n",
    "e = ((pts[0] + pts[2]) / 2).astype(int)\n",
    "c = pts[1] + (e - pts[1]) * 2\n",
    "print(c)\n",
    "pts = np.append(pts, [c], axis=0)\n",
    "pts\n",
    "\n",
    "cv2.polylines(img, [pts],True,(255,0,0),1)\n",
    "for i, pos in enumerate(pts):\n",
    "    cv2.putText(img,\"[\" + str(i) + \"]\" + str(pos[0]) + \",\" + str(pos[1]), (pos[0], pos[1]), font, 0.5, (255, 0, 0), 2, cv2.LINE_AA)\n",
    "imshow(img)"
   ]
  }
 ],
 "metadata": {
  "kernelspec": {
   "display_name": "Python 3.9.13 ('py39_opencv')",
   "language": "python",
   "name": "python3"
  },
  "language_info": {
   "codemirror_mode": {
    "name": "ipython",
    "version": 3
   },
   "file_extension": ".py",
   "mimetype": "text/x-python",
   "name": "python",
   "nbconvert_exporter": "python",
   "pygments_lexer": "ipython3",
   "version": "3.9.13"
  },
  "orig_nbformat": 4,
  "vscode": {
   "interpreter": {
    "hash": "4bb47faea8ee0d84de6fa0e75bf000039a384b2a0a3d80fbde05930f393b2eba"
   }
  }
 },
 "nbformat": 4,
 "nbformat_minor": 2
}
